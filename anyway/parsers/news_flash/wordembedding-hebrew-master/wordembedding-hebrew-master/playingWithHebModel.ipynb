{
 "cells": [
  {
   "cell_type": "code",
   "execution_count": 2,
   "metadata": {
    "collapsed": false,
    "jupyter": {
     "outputs_hidden": false
    }
   },
   "outputs": [],
   "source": [
    "import word2vec"
   ]
  },
  {
   "cell_type": "code",
   "execution_count": 42,
   "metadata": {},
   "outputs": [
    {
     "name": "stdout",
     "output_type": "stream",
     "text": [
      "Starting to create wiki corpus\n"
     ]
    },
    {
     "name": "stderr",
     "output_type": "stream",
     "text": [
      "C:\\Users\\saske\\Anaconda3\\lib\\site-packages\\gensim\\utils.py:1254: UserWarning: detected Windows; aliasing chunkize to chunkize_serial\n",
      "  warnings.warn(\"detected Windows; aliasing chunkize to chunkize_serial\")\n"
     ]
    },
    {
     "name": "stdout",
     "output_type": "stream",
     "text": [
      "Saved 1000 articles\n",
      "Saved 2000 articles\n",
      "Saved 3000 articles\n",
      "Saved 4000 articles\n",
      "Saved 5000 articles\n",
      "Saved 6000 articles\n",
      "Saved 7000 articles\n",
      "Saved 8000 articles\n",
      "Saved 9000 articles\n",
      "Saved 10000 articles\n",
      "Saved 11000 articles\n",
      "Saved 12000 articles\n",
      "Saved 13000 articles\n",
      "Saved 14000 articles\n",
      "Saved 15000 articles\n",
      "Saved 16000 articles\n",
      "Saved 17000 articles\n",
      "Saved 18000 articles\n",
      "Saved 19000 articles\n",
      "Saved 20000 articles\n",
      "Saved 21000 articles\n",
      "Saved 22000 articles\n",
      "Saved 23000 articles\n",
      "Saved 24000 articles\n",
      "Saved 25000 articles\n",
      "Saved 26000 articles\n",
      "Saved 27000 articles\n",
      "Saved 28000 articles\n",
      "Saved 29000 articles\n",
      "Saved 30000 articles\n",
      "Saved 31000 articles\n",
      "Saved 32000 articles\n",
      "Saved 33000 articles\n",
      "Saved 34000 articles\n",
      "Saved 35000 articles\n",
      "Saved 36000 articles\n",
      "Saved 37000 articles\n",
      "Saved 38000 articles\n",
      "Saved 39000 articles\n",
      "Saved 40000 articles\n",
      "Saved 41000 articles\n",
      "Saved 42000 articles\n",
      "Saved 43000 articles\n",
      "Saved 44000 articles\n",
      "Saved 45000 articles\n",
      "Saved 46000 articles\n",
      "Saved 47000 articles\n",
      "Saved 48000 articles\n",
      "Saved 49000 articles\n",
      "Saved 50000 articles\n",
      "Saved 51000 articles\n",
      "Saved 52000 articles\n",
      "Saved 53000 articles\n",
      "Saved 54000 articles\n",
      "Saved 55000 articles\n",
      "Saved 56000 articles\n",
      "Saved 57000 articles\n",
      "Saved 58000 articles\n",
      "Saved 59000 articles\n",
      "Saved 60000 articles\n",
      "Saved 61000 articles\n",
      "Saved 62000 articles\n",
      "Saved 63000 articles\n",
      "Saved 64000 articles\n",
      "Saved 65000 articles\n",
      "Saved 66000 articles\n",
      "Saved 67000 articles\n",
      "Saved 68000 articles\n",
      "Saved 69000 articles\n",
      "Saved 70000 articles\n",
      "Saved 71000 articles\n",
      "Saved 72000 articles\n",
      "Saved 73000 articles\n",
      "Saved 74000 articles\n",
      "Saved 75000 articles\n",
      "Saved 76000 articles\n",
      "Saved 77000 articles\n",
      "Saved 78000 articles\n",
      "Saved 79000 articles\n",
      "Saved 80000 articles\n",
      "Saved 81000 articles\n",
      "Saved 82000 articles\n",
      "Saved 83000 articles\n",
      "Saved 84000 articles\n",
      "Saved 85000 articles\n",
      "Saved 86000 articles\n",
      "Saved 87000 articles\n",
      "Saved 88000 articles\n",
      "Saved 89000 articles\n",
      "Saved 90000 articles\n",
      "Saved 91000 articles\n",
      "Saved 92000 articles\n",
      "Saved 93000 articles\n",
      "Saved 94000 articles\n",
      "Saved 95000 articles\n",
      "Saved 96000 articles\n",
      "Saved 97000 articles\n",
      "Saved 98000 articles\n",
      "Saved 99000 articles\n",
      "Saved 100000 articles\n",
      "Saved 101000 articles\n",
      "Saved 102000 articles\n",
      "Saved 103000 articles\n",
      "Saved 104000 articles\n",
      "Saved 105000 articles\n",
      "Saved 106000 articles\n",
      "Saved 107000 articles\n",
      "Saved 108000 articles\n",
      "Saved 109000 articles\n",
      "Saved 110000 articles\n",
      "Saved 111000 articles\n",
      "Saved 112000 articles\n",
      "Saved 113000 articles\n",
      "Saved 114000 articles\n",
      "Saved 115000 articles\n",
      "Saved 116000 articles\n",
      "Saved 117000 articles\n",
      "Saved 118000 articles\n",
      "Saved 119000 articles\n",
      "Saved 120000 articles\n",
      "Saved 121000 articles\n",
      "Saved 122000 articles\n",
      "Saved 123000 articles\n",
      "Saved 124000 articles\n",
      "Saved 125000 articles\n",
      "Saved 126000 articles\n",
      "Saved 127000 articles\n",
      "Saved 128000 articles\n",
      "Saved 129000 articles\n",
      "Saved 130000 articles\n",
      "Saved 131000 articles\n",
      "Saved 132000 articles\n",
      "Saved 133000 articles\n",
      "Saved 134000 articles\n",
      "Saved 135000 articles\n",
      "Saved 136000 articles\n",
      "Saved 137000 articles\n",
      "Saved 138000 articles\n",
      "Saved 139000 articles\n",
      "Saved 140000 articles\n",
      "Saved 141000 articles\n",
      "Saved 142000 articles\n",
      "Saved 143000 articles\n",
      "Saved 144000 articles\n",
      "Saved 145000 articles\n",
      "Saved 146000 articles\n",
      "Saved 147000 articles\n",
      "Saved 148000 articles\n",
      "Saved 149000 articles\n",
      "Saved 150000 articles\n",
      "Saved 151000 articles\n",
      "Saved 152000 articles\n",
      "Saved 153000 articles\n",
      "Saved 154000 articles\n",
      "Saved 155000 articles\n",
      "Saved 156000 articles\n",
      "Saved 157000 articles\n",
      "Saved 158000 articles\n",
      "Saved 159000 articles\n",
      "Saved 160000 articles\n",
      "Saved 161000 articles\n",
      "Saved 162000 articles\n",
      "Saved 163000 articles\n",
      "Saved 164000 articles\n",
      "Saved 165000 articles\n",
      "Saved 166000 articles\n",
      "Saved 167000 articles\n",
      "Saved 168000 articles\n",
      "Saved 169000 articles\n",
      "Saved 170000 articles\n",
      "Saved 171000 articles\n",
      "Saved 172000 articles\n",
      "Saved 173000 articles\n",
      "Saved 174000 articles\n",
      "Saved 175000 articles\n",
      "Saved 176000 articles\n",
      "Saved 177000 articles\n",
      "Saved 178000 articles\n",
      "Saved 179000 articles\n",
      "Saved 180000 articles\n",
      "Saved 181000 articles\n",
      "Saved 182000 articles\n",
      "Saved 183000 articles\n",
      "Saved 184000 articles\n",
      "Saved 185000 articles\n",
      "Saved 186000 articles\n",
      "Saved 187000 articles\n",
      "Saved 188000 articles\n",
      "Saved 189000 articles\n",
      "Saved 190000 articles\n",
      "Saved 191000 articles\n",
      "Saved 192000 articles\n",
      "Saved 193000 articles\n",
      "Saved 194000 articles\n",
      "Saved 195000 articles\n",
      "Saved 196000 articles\n",
      "Saved 197000 articles\n",
      "Saved 198000 articles\n",
      "Saved 199000 articles\n",
      "Saved 200000 articles\n",
      "Saved 201000 articles\n",
      "Saved 202000 articles\n",
      "Saved 203000 articles\n",
      "Saved 204000 articles\n",
      "Saved 205000 articles\n",
      "Saved 206000 articles\n",
      "Saved 207000 articles\n",
      "Saved 208000 articles\n",
      "Saved 209000 articles\n",
      "Saved 210000 articles\n",
      "Saved 211000 articles\n",
      "Saved 212000 articles\n",
      "Saved 213000 articles\n",
      "Saved 214000 articles\n",
      "Saved 215000 articles\n",
      "Saved 216000 articles\n",
      "Saved 217000 articles\n",
      "Saved 218000 articles\n",
      "Saved 219000 articles\n",
      "Saved 220000 articles\n",
      "Saved 221000 articles\n",
      "Saved 222000 articles\n",
      "Saved 223000 articles\n",
      "Saved 224000 articles\n",
      "Saved 225000 articles\n",
      "Finished - Saved 225868 articles\n"
     ]
    }
   ],
   "source": [
    "from gensim.corpora import WikiCorpus\n",
    "\n",
    "inp = \"hewiki-latest-pages-articles.xml.bz2\"\n",
    "outp = \"wiki.he.text\"\n",
    "i = 0\n",
    "\n",
    "print(\"Starting to create wiki corpus\")\n",
    "output = open(outp, 'w')\n",
    "space = \" \"\n",
    "wiki = WikiCorpus(inp, lemmatize=False, dictionary={})\n",
    "for text in wiki.get_texts():\n",
    "    article = space.join([t for t in text])\n",
    "\n",
    "    output.write(\"{}\\n\".format(article.encode(\"utf-8\")))\n",
    "    i += 1\n",
    "    if (i % 1000 == 0):\n",
    "        print(\"Saved \" + str(i) + \" articles\")\n",
    "\n",
    "output.close()\n",
    "print(\"Finished - Saved \" + str(i) + \" articles\")"
   ]
  },
  {
   "cell_type": "code",
   "execution_count": 3,
   "metadata": {},
   "outputs": [],
   "source": [
    "#word2vec.train()\n",
    "model = word2vec.getModel()"
   ]
  },
  {
   "cell_type": "code",
   "execution_count": 4,
   "metadata": {},
   "outputs": [],
   "source": [
    "import codecs\n",
    "def w2k(word):\n",
    "    return str(word.encode('utf-8'))[2:-1]\n",
    "def k2w(key):\n",
    "    decode_hex = codecs.getdecoder(\"hex_codec\")\n",
    "    return bytes.fromhex(key.replace('\\\\x','')).decode('utf-8')"
   ]
  },
  {
   "cell_type": "code",
   "execution_count": 5,
   "metadata": {
    "collapsed": false,
    "jupyter": {
     "outputs_hidden": false
    }
   },
   "outputs": [
    {
     "name": "stdout",
     "output_type": "stream",
     "text": [
      "[ 0.14282697 -0.06208084  0.04318311 -0.17290811  0.10884227  0.07623467\n",
      " -0.15817128 -0.06993107  0.05925741 -0.1083439   0.00749283  0.03366933\n",
      " -0.05532444  0.2618017   0.11681464  0.1038224   0.02770478 -0.04650773\n",
      " -0.16286406  0.04215435 -0.2568714   0.24588865  0.04627371 -0.08484864\n",
      "  0.05032044 -0.10388056 -0.03041691  0.08929554  0.10681502 -0.07180402\n",
      " -0.03005394  0.00030263 -0.04063887  0.18242559 -0.00371127  0.0277875\n",
      " -0.01147283  0.04683041 -0.14180373  0.14371134 -0.01812277  0.10166115\n",
      " -0.13254312 -0.02937255 -0.06389116  0.07458038  0.12327433  0.04361261\n",
      "  0.01494778  0.05207259 -0.00235906 -0.01597231 -0.04126838  0.0887166\n",
      " -0.06079846  0.05727545  0.08732627  0.03143366  0.10194065  0.085743\n",
      " -0.17074656  0.16214886  0.10109868  0.0197228   0.13178621 -0.03615397\n",
      " -0.16641705 -0.07750649 -0.00540441  0.11759119 -0.07604684  0.05073216\n",
      "  0.0644776   0.10402199 -0.04076962  0.04049543 -0.12158773  0.08910979\n",
      " -0.02757487  0.02020544 -0.19052951 -0.12587997 -0.00217898 -0.11090263\n",
      "  0.04268991 -0.08621808 -0.00171976  0.01036728 -0.04639223  0.01020358\n",
      "  0.01376103  0.0636684  -0.02272058 -0.1493875   0.11652054  0.04404157\n",
      " -0.00841982 -0.2385937  -0.19329472 -0.02557624]\n",
      "[-0.00769416 -0.0436689  -0.06726478  0.00824692 -0.01702531  0.0313667\n",
      " -0.18606476 -0.05769797  0.03366651  0.06137186  0.03901738 -0.24481326\n",
      " -0.00105926  0.12789218  0.05209271 -0.05810719 -0.02534229 -0.03887132\n",
      "  0.08813445  0.0698033  -0.06292185  0.06251978 -0.08858496 -0.01025899\n",
      " -0.00804205 -0.01025881 -0.0198728   0.00540425  0.07354757  0.07841103\n",
      "  0.00077922 -0.03309263 -0.0194985   0.21746856  0.2362878  -0.07227492\n",
      "  0.1323212   0.03173929 -0.00339001 -0.08035428 -0.10512524 -0.06700593\n",
      " -0.02651688  0.00413322  0.0046918   0.13151751  0.09101024  0.00727712\n",
      "  0.02193856  0.04994084  0.07242029 -0.02101776  0.16488293  0.13556209\n",
      "  0.10050914  0.0555876   0.07199802  0.14938706 -0.04714085 -0.14926009\n",
      " -0.05098218  0.15241061 -0.02294706 -0.0104315   0.02093024  0.04968811\n",
      " -0.23653013 -0.09647466 -0.18828243  0.17225464 -0.08512292 -0.12951085\n",
      "  0.11802656 -0.0886787   0.06256323  0.01648281 -0.08093507  0.02370301\n",
      " -0.13715385 -0.04706121 -0.09067032 -0.02215858 -0.0476378   0.07496511\n",
      " -0.00741793  0.19183287 -0.13679019 -0.12853406 -0.00433914 -0.22774462\n",
      " -0.11362395  0.17759602 -0.06796058  0.01278619  0.06354086 -0.21104747\n",
      "  0.0334103  -0.09690044 -0.15289418  0.12788178]\n",
      "[-1.23443035e-02  1.34353610e-02 -1.11892954e-01 -2.15295702e-01\n",
      "  7.06340447e-02 -8.11563060e-02 -9.07306448e-02 -8.76005441e-02\n",
      "  1.57259494e-01  1.55026153e-01 -1.00303188e-01 -2.13607877e-01\n",
      "  1.65938973e-01  1.81148946e-01 -5.87913431e-02  8.94677453e-03\n",
      "  1.61202565e-01  3.71875316e-02 -1.45317033e-01  3.80385183e-02\n",
      " -8.41151252e-02 -7.84445554e-03 -5.05988300e-02 -4.18989696e-02\n",
      "  1.26997903e-01 -5.63266240e-02  1.55561134e-01  2.46469281e-03\n",
      "  6.58198893e-02 -5.54670952e-02 -4.65623522e-03  3.14568053e-03\n",
      "  1.11942450e-02  1.76728964e-01  6.22299574e-02  4.71389927e-02\n",
      "  1.02308266e-01  7.92130083e-02 -1.06234938e-01  1.10397190e-01\n",
      "  4.61228229e-02  3.72505449e-02 -1.41023219e-01  2.73316652e-02\n",
      "  1.60238892e-03 -5.33661582e-02  2.46236585e-02  1.75702691e-01\n",
      " -1.28604262e-03  1.36901904e-02  1.37972310e-01 -9.55049545e-02\n",
      " -6.38265461e-02  3.56422551e-02  5.57056330e-02 -1.07585885e-01\n",
      "  3.49010453e-02 -4.13991399e-02 -9.46017057e-02 -2.46122829e-03\n",
      "  5.57312518e-02  1.14372112e-01  2.35723634e-03  2.48482898e-01\n",
      "  2.79151082e-01  2.15253793e-02 -2.27244273e-02  1.13818392e-01\n",
      " -1.25937145e-02  4.82272357e-02  4.41536307e-02 -1.30265746e-02\n",
      "  2.10243821e-01  5.68189509e-02  1.33443726e-02  9.47543085e-02\n",
      " -5.39321043e-02 -9.95602310e-02  6.36814767e-03  7.29114935e-03\n",
      " -1.00887038e-01 -1.91913590e-01 -1.68208063e-01  1.50517076e-02\n",
      "  1.43893659e-01  1.86648726e-01  4.14924370e-03  4.28535230e-02\n",
      " -5.86790293e-02 -2.93027591e-02 -1.20788179e-02 -1.16260454e-01\n",
      " -9.87931192e-02 -4.47615311e-02  7.48302564e-02  7.61957926e-05\n",
      "  1.16492882e-01 -2.83646528e-02 -7.54821524e-02  6.33296072e-02]\n",
      "[ 0.02260738 -0.17392029 -0.05474498 -0.14467344 -0.02556378 -0.01728408\n",
      " -0.08842765 -0.08595806  0.02576487 -0.14581865  0.13040642  0.06872364\n",
      "  0.10284659  0.10534158 -0.03948232 -0.04304408  0.00947252  0.03411148\n",
      " -0.11146546  0.17082031 -0.10365595  0.16438742  0.12056454 -0.0223533\n",
      "  0.05069719 -0.174517   -0.03364553  0.09352155 -0.13015811  0.0418885\n",
      " -0.0671787   0.10893208 -0.07660245  0.0288584   0.10958545  0.02778394\n",
      " -0.02641196  0.07711729 -0.1856515   0.15608534 -0.01445881  0.05805765\n",
      " -0.20585129 -0.08198187 -0.03631274  0.13375884  0.05211181 -0.00447263\n",
      "  0.09237718  0.09184635  0.01506095  0.07255312 -0.1410363   0.00864026\n",
      "  0.04860909  0.10725296  0.11867882 -0.03269401 -0.05706951  0.08459274\n",
      "  0.03717089 -0.00906298  0.00807516  0.02674902  0.09590364  0.05117374\n",
      " -0.26369944 -0.16063194  0.04981826  0.13002379 -0.092988   -0.09794268\n",
      "  0.06707119  0.14034946  0.08081485  0.25122178 -0.02572637  0.03538919\n",
      " -0.00481342 -0.08458633 -0.15697378 -0.14104272 -0.02205407 -0.11806244\n",
      "  0.03864292 -0.01420597 -0.04330251  0.0688198  -0.04172401 -0.00887764\n",
      " -0.13278668 -0.05026389 -0.11751333  0.02530954  0.21406955 -0.17517889\n",
      "  0.05431576  0.00204641 -0.10474456  0.03524395]\n",
      "[ 0.08097173  0.0122672  -0.0292679  -0.1461509   0.07172485  0.13814975\n",
      " -0.14536814  0.05783506  0.02610066  0.0881206  -0.06511236  0.09539973\n",
      "  0.1279176   0.1532634  -0.02141413 -0.02282024  0.16785604  0.06514461\n",
      " -0.0865761  -0.11268828 -0.05353235 -0.05650959  0.01001    -0.12987055\n",
      "  0.00064056 -0.22881025  0.15326016  0.10377478  0.05434815  0.04081031\n",
      " -0.00132735  0.1312033  -0.08795327  0.06189438 -0.15389751  0.0224441\n",
      "  0.03839382  0.1519136  -0.09789262  0.26848024  0.1139631  -0.10570333\n",
      " -0.16982263 -0.0286415   0.01163683  0.06094186  0.02822752  0.06674878\n",
      "  0.08046617 -0.02315065  0.00332204  0.13051166 -0.13067578  0.02980483\n",
      " -0.04931884  0.02508854  0.13644713 -0.02745552  0.09101215 -0.00804965\n",
      "  0.07480316  0.14886458  0.03035763 -0.06352523  0.04806957  0.08784746\n",
      " -0.07607327 -0.1268571  -0.0363985   0.09310776 -0.08178455 -0.08191776\n",
      "  0.09170128  0.10469615 -0.02192456 -0.06413244  0.11203772  0.0008878\n",
      " -0.07436746  0.07604825 -0.06056738 -0.07941816 -0.06485683 -0.01784152\n",
      "  0.09039547  0.03028671 -0.21648146 -0.01790094 -0.0278578  -0.09622382\n",
      "  0.00410758 -0.3021758   0.02708389 -0.04620746  0.22772193 -0.08565078\n",
      "  0.15340987 -0.05194321  0.04078842 -0.00546541]\n"
     ]
    }
   ],
   "source": [
    "#most popular words\n",
    "\n",
    "print(model.wv[w2k('עם')])\n",
    "print(model.wv[w2k('קטגוריה')])\n",
    "print(model.wv[w2k('הוא')])\n",
    "print(model.wv[w2k('על')])\n",
    "print(model.wv[w2k('את')])\n",
    "\n",
    "# note: קטגוריה popularity is due to the Wikipedia bias"
   ]
  },
  {
   "cell_type": "code",
   "execution_count": 6,
   "metadata": {
    "collapsed": false,
    "jupyter": {
     "outputs_hidden": false
    }
   },
   "outputs": [
    {
     "data": {
      "text/plain": [
       "519973"
      ]
     },
     "execution_count": 6,
     "metadata": {},
     "output_type": "execute_result"
    }
   ],
   "source": [
    "# words in vocabulary\n",
    "\n",
    "len(model.wv.vocab)"
   ]
  },
  {
   "cell_type": "code",
   "execution_count": 7,
   "metadata": {
    "collapsed": false,
    "jupyter": {
     "outputs_hidden": false
    }
   },
   "outputs": [
    {
     "name": "stdout",
     "output_type": "stream",
     "text": [
      "את\n"
     ]
    }
   ],
   "source": [
    "print(k2w(model.wv.index2word[1]))"
   ]
  },
  {
   "cell_type": "code",
   "execution_count": 8,
   "metadata": {
    "collapsed": false,
    "jupyter": {
     "outputs_hidden": false
    }
   },
   "outputs": [
    {
     "name": "stdout",
     "output_type": "stream",
     "text": [
      "עבודה\n"
     ]
    },
    {
     "name": "stderr",
     "output_type": "stream",
     "text": [
      "C:\\Users\\saske\\Anaconda3\\lib\\site-packages\\gensim\\models\\keyedvectors.py:877: FutureWarning: arrays to stack must be passed as a \"sequence\" type such as list or tuple. Support for non-sequence iterables such as generators is deprecated as of NumPy 1.16 and will raise an error in the future.\n",
      "  vectors = vstack(self.word_vec(word, use_norm=True) for word in used_words).astype(REAL)\n"
     ]
    }
   ],
   "source": [
    "print(k2w(model.wv.doesnt_match([w2k(x) for x in 'ביבי נתניהו ליכוד עבודה'.split()])))"
   ]
  },
  {
   "cell_type": "code",
   "execution_count": 9,
   "metadata": {
    "collapsed": false,
    "jupyter": {
     "outputs_hidden": false
    }
   },
   "outputs": [
    {
     "name": "stdout",
     "output_type": "stream",
     "text": [
      "טוגנים\n"
     ]
    }
   ],
   "source": [
    "print(k2w(model.wv.doesnt_match([w2k(x) for x in 'לילה בוקר ערב צהריים טוגנים'.split()])))"
   ]
  },
  {
   "cell_type": "code",
   "execution_count": 10,
   "metadata": {
    "collapsed": false,
    "jupyter": {
     "outputs_hidden": false
    }
   },
   "outputs": [
    {
     "name": "stdout",
     "output_type": "stream",
     "text": [
      "צלחת\n"
     ]
    }
   ],
   "source": [
    "print(k2w(model.wv.doesnt_match([w2k(x) for x in 'סוס כלב אריה צלחת ציפור ליוויתן חתול'.split()])))"
   ]
  },
  {
   "cell_type": "code",
   "execution_count": 11,
   "metadata": {
    "collapsed": false,
    "jupyter": {
     "outputs_hidden": false
    }
   },
   "outputs": [
    {
     "name": "stdout",
     "output_type": "stream",
     "text": [
      "וגבר\n"
     ]
    }
   ],
   "source": [
    "print(k2w(model.wv.most_similar(w2k('גבר'), topn=1)[0][0]))"
   ]
  },
  {
   "cell_type": "code",
   "execution_count": 12,
   "metadata": {
    "collapsed": false,
    "jupyter": {
     "outputs_hidden": false
    }
   },
   "outputs": [
    {
     "name": "stdout",
     "output_type": "stream",
     "text": [
      "אשה\n"
     ]
    }
   ],
   "source": [
    "print(k2w(model.wv.most_similar(w2k('אישה'), topn=1)[0][0]))"
   ]
  },
  {
   "cell_type": "code",
   "execution_count": 13,
   "metadata": {
    "collapsed": false,
    "jupyter": {
     "outputs_hidden": false
    }
   },
   "outputs": [
    {
     "data": {
      "text/plain": [
       "0.73269767"
      ]
     },
     "execution_count": 13,
     "metadata": {},
     "output_type": "execute_result"
    }
   ],
   "source": [
    "model.wv.similarity(w2k('גבר'), w2k('אישה'))"
   ]
  },
  {
   "cell_type": "code",
   "execution_count": 14,
   "metadata": {
    "collapsed": false,
    "jupyter": {
     "outputs_hidden": false
    }
   },
   "outputs": [
    {
     "data": {
      "text/plain": [
       "0.5815688"
      ]
     },
     "execution_count": 14,
     "metadata": {},
     "output_type": "execute_result"
    }
   ],
   "source": [
    "model.wv.similarity(w2k('ילד'), w2k('אישה'))"
   ]
  },
  {
   "cell_type": "code",
   "execution_count": 15,
   "metadata": {
    "collapsed": false,
    "jupyter": {
     "outputs_hidden": false
    }
   },
   "outputs": [
    {
     "data": {
      "text/plain": [
       "0.5310172"
      ]
     },
     "execution_count": 15,
     "metadata": {},
     "output_type": "execute_result"
    }
   ],
   "source": [
    "model.wv.similarity(w2k('יפה'), w2k('אישה'))"
   ]
  },
  {
   "cell_type": "code",
   "execution_count": 37,
   "metadata": {
    "collapsed": false,
    "jupyter": {
     "outputs_hidden": false
    }
   },
   "outputs": [
    {
     "name": "stdout",
     "output_type": "stream",
     "text": [
      "מלכת\n"
     ]
    }
   ],
   "source": [
    "print(k2w(model.wv.most_similar(positive=[w2k('אישה'),w2k('מלך')], negative=[w2k('גבר')], topn=1)[0][0]))"
   ]
  },
  {
   "cell_type": "code",
   "execution_count": 17,
   "metadata": {
    "collapsed": false,
    "jupyter": {
     "outputs_hidden": false
    }
   },
   "outputs": [
    {
     "name": "stdout",
     "output_type": "stream",
     "text": [
      "ישראל\n"
     ]
    }
   ],
   "source": [
    "print(k2w(model.wv.most_similar(positive=[w2k('ירושלים'),w2k('גרמניה')], negative=[w2k('ברלין')], topn=1)[0][0]))"
   ]
  },
  {
   "cell_type": "code",
   "execution_count": 18,
   "metadata": {
    "collapsed": false,
    "jupyter": {
     "outputs_hidden": false
    }
   },
   "outputs": [
    {
     "name": "stdout",
     "output_type": "stream",
     "text": [
      "בריטניה\n"
     ]
    }
   ],
   "source": [
    "print(k2w(model.wv.most_similar(positive=[w2k('לונדון'),w2k('גרמניה')], negative=[w2k('ברלין')], topn=1)[0][0]))"
   ]
  },
  {
   "cell_type": "code",
   "execution_count": 40,
   "metadata": {
    "collapsed": false,
    "jupyter": {
     "outputs_hidden": false
    }
   },
   "outputs": [
    {
     "name": "stdout",
     "output_type": "stream",
     "text": [
      "שוודיה\n"
     ]
    }
   ],
   "source": [
    "print(k2w(model.wv.most_similar(positive=[w2k('אוסלו'),w2k('גרמניה')], negative=[w2k('ברלין')], topn=1)[0][0]))"
   ]
  },
  {
   "cell_type": "code",
   "execution_count": null,
   "metadata": {},
   "outputs": [],
   "source": [
    "print(k2w(model.wv.doesnt_match([w2k(x) for x in 'תאונה דרך רכב פצוע '.split()])))"
   ]
  }
 ],
 "metadata": {
  "kernelspec": {
   "display_name": "Python 3",
   "language": "python",
   "name": "python3"
  },
  "language_info": {
   "codemirror_mode": {
    "name": "ipython",
    "version": 3
   },
   "file_extension": ".py",
   "mimetype": "text/x-python",
   "name": "python",
   "nbconvert_exporter": "python",
   "pygments_lexer": "ipython3",
   "version": "3.7.3"
  }
 },
 "nbformat": 4,
 "nbformat_minor": 4
}
