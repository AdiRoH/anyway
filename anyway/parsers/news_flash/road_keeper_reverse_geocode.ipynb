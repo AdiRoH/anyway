{
 "cells": [
  {
   "cell_type": "code",
   "execution_count": 51,
   "metadata": {},
   "outputs": [],
   "source": [
    "import pandas as pd\n",
    "import requests\n",
    "from tqdm import tqdm_notebook"
   ]
  },
  {
   "cell_type": "code",
   "execution_count": 52,
   "metadata": {},
   "outputs": [],
   "source": [
    "data=pd.read_excel('road_keeper_reports.xls')\n",
    "file = open('google_maps_key.txt', 'r') \n",
    "maps_key=file.read()"
   ]
  },
  {
   "cell_type": "code",
   "execution_count": 53,
   "metadata": {},
   "outputs": [],
   "source": [
    "data.index=data['מזהה']\n",
    "data.drop(columns=['מזהה'], inplace=True)"
   ]
  },
  {
   "cell_type": "code",
   "execution_count": 54,
   "metadata": {},
   "outputs": [
    {
     "name": "stderr",
     "output_type": "stream",
     "text": [
      "C:\\Users\\saske\\Anaconda3\\lib\\site-packages\\ipykernel_launcher.py:2: SettingWithCopyWarning: \n",
      "A value is trying to be set on a copy of a slice from a DataFrame\n",
      "\n",
      "See the caveats in the documentation: http://pandas.pydata.org/pandas-docs/stable/indexing.html#indexing-view-versus-copy\n",
      "  \n"
     ]
    }
   ],
   "source": [
    "data_filtered=data[~(data['נ״צ מדווח'].astype('str')=='0.0,0.0')]\n",
    "data_filtered.dropna(subset=['נ״צ מדווח'], inplace=True)"
   ]
  },
  {
   "cell_type": "code",
   "execution_count": 55,
   "metadata": {},
   "outputs": [],
   "source": [
    "data_filtered=data_filtered.iloc[:5000]"
   ]
  },
  {
   "cell_type": "code",
   "execution_count": 56,
   "metadata": {},
   "outputs": [
    {
     "data": {
      "application/vnd.jupyter.widget-view+json": {
       "model_id": "2608135955194f85a0fb00e1857127f0",
       "version_major": 2,
       "version_minor": 0
      },
      "text/plain": [
       "HBox(children=(IntProgress(value=0, max=1000), HTML(value='')))"
      ]
     },
     "metadata": {},
     "output_type": "display_data"
    },
    {
     "name": "stdout",
     "output_type": "stream",
     "text": [
      "\n"
     ]
    }
   ],
   "source": [
    "results=[]\n",
    "for i in tqdm_notebook(range(1000)):\n",
    "    results.append(requests.get('https://maps.googleapis.com/maps/api/geocode/json?latlng={0}&key={1}&language=iw&region=IL'.format(data_filtered.iloc[i]['נ״צ מדווח'],maps_key)))"
   ]
  },
  {
   "cell_type": "code",
   "execution_count": 57,
   "metadata": {},
   "outputs": [
    {
     "data": {
      "text/plain": [
       "[{'long_name': '196', 'short_name': '196', 'types': ['street_number']},\n",
       " {'long_name': 'דרך יפו', 'short_name': 'דרך יפו', 'types': ['route']},\n",
       " {'long_name': 'חיפה',\n",
       "  'short_name': 'חיפה',\n",
       "  'types': ['locality', 'political']},\n",
       " {'long_name': 'חיפה',\n",
       "  'short_name': 'חיפה',\n",
       "  'types': ['administrative_area_level_2', 'political']},\n",
       " {'long_name': 'מחוז חיפה',\n",
       "  'short_name': 'מחוז חיפה',\n",
       "  'types': ['administrative_area_level_1', 'political']},\n",
       " {'long_name': 'ישראל', 'short_name': 'IL', 'types': ['country', 'political']}]"
      ]
     },
     "execution_count": 57,
     "metadata": {},
     "output_type": "execute_result"
    }
   ],
   "source": [
    "results[0].json()['results'][0]['address_components']"
   ]
  },
  {
   "cell_type": "code",
   "execution_count": 58,
   "metadata": {},
   "outputs": [],
   "source": [
    "data_filtered['עיר']=''\n",
    "data_filtered['רחוב']=''\n",
    "data_filtered['מספר רחוב']=''\n",
    "data_filtered['כביש']=''\n",
    "data_filtered['צומת']=''\n",
    "data_filtered['כתובת']=''"
   ]
  },
  {
   "cell_type": "code",
   "execution_count": 59,
   "metadata": {},
   "outputs": [
    {
     "data": {
      "application/vnd.jupyter.widget-view+json": {
       "model_id": "fd284e43755e407eb2cf460a695100fb",
       "version_major": 2,
       "version_minor": 0
      },
      "text/plain": [
       "HBox(children=(IntProgress(value=1, bar_style='info', max=1), HTML(value='')))"
      ]
     },
     "metadata": {},
     "output_type": "display_data"
    },
    {
     "name": "stdout",
     "output_type": "stream",
     "text": [
      "\n"
     ]
    }
   ],
   "source": [
    "for i, result in tqdm_notebook(enumerate(results)):\n",
    "    street_number=''\n",
    "    street=''\n",
    "    road=''\n",
    "    intersection=''\n",
    "    city=''\n",
    "    address=''\n",
    "    for item in result.json()['results'][0]['address_components']:\n",
    "        ind=data_filtered.iloc[i].name\n",
    "        if 'street_number' in item['types']:\n",
    "            street_number=item['short_name']\n",
    "        elif 'route' in item['types']:\n",
    "            if street_number!='':\n",
    "                street=item['long_name']\n",
    "            else:\n",
    "                road=item['short_name']\n",
    "        elif 'locality' in item['types']:\n",
    "            city=item['long_name']\n",
    "        elif 'administrative_area_level_2' in item['types'] and city=='':\n",
    "            city=item['long_name']\n",
    "        elif 'establishment' in item['types'] or 'intersection' in item['types']:\n",
    "            intersection=item['long_name']\n",
    "    address=result.json()['results'][0]['formatted_address']\n",
    "    data_filtered.loc[ind, 'עיר']=city\n",
    "    data_filtered.loc[ind, 'רחוב']=street\n",
    "    data_filtered.loc[ind, 'מספר רחוב']=street_number\n",
    "    data_filtered.loc[ind, 'כביש']=road\n",
    "    data_filtered.loc[ind, 'צומת']=intersection\n",
    "    data_filtered.loc[ind, 'כתובת']=address"
   ]
  },
  {
   "cell_type": "code",
   "execution_count": 60,
   "metadata": {},
   "outputs": [],
   "source": [
    "data_filtered.to_excel('road_keeper_street_extraction.xlsx')"
   ]
  }
 ],
 "metadata": {
  "kernelspec": {
   "display_name": "Python 3",
   "language": "python",
   "name": "python3"
  },
  "language_info": {
   "codemirror_mode": {
    "name": "ipython",
    "version": 3
   },
   "file_extension": ".py",
   "mimetype": "text/x-python",
   "name": "python",
   "nbconvert_exporter": "python",
   "pygments_lexer": "ipython3",
   "version": "3.7.3"
  }
 },
 "nbformat": 4,
 "nbformat_minor": 2
}
